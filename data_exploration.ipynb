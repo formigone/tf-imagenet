{
 "cells": [
  {
   "cell_type": "markdown",
   "metadata": {
    "collapsed": true
   },
   "source": [
    "# Data Exploration\n",
    "\n",
    "The data provided for this challenge is divided in the following manner:\n",
    "\n",
    " + Training set: 50,000 samples\n",
    " + Validation set: 50,000 samples\n",
    " + Test set: 100,000 samples\n",
    "\n",
    "There are 1,000 possible labels, and each image can have up to 5 objects in it."
   ]
  },
  {
   "cell_type": "markdown",
   "metadata": {},
   "source": [
    "### Sample images"
   ]
  },
  {
   "cell_type": "code",
   "execution_count": 3,
   "metadata": {
    "collapsed": true
   },
   "outputs": [],
   "source": [
    "sample_images_path = 'sample-images/'\n",
    "sample_images = ['n01440764_14034.JPEG', 'n01440764_7154.JPEG', 'n01443537_15790.JPEG', 'n01443537_3885.JPEG']"
   ]
  },
  {
   "cell_type": "code",
   "execution_count": 4,
   "metadata": {},
   "outputs": [
    {
     "data": {
      "text/html": [
       "<table><tr><td><img src='sample-images/n01440764_14034.JPEG' /></td><td><img src='sample-images/n01440764_7154.JPEG' /></td><td><img src='sample-images/n01443537_15790.JPEG' /></td><td><img src='sample-images/n01443537_3885.JPEG' /></td></tr></table>"
      ],
      "text/plain": [
       "<IPython.core.display.HTML object>"
      ]
     },
     "metadata": {},
     "output_type": "display_data"
    }
   ],
   "source": [
    "from IPython.display import display, HTML\n",
    "\n",
    "html = [\"<td><img src='{}' /></td>\".format(sample_images_path + img) for img in sample_images]\n",
    "display(HTML(\"<table><tr>{}</tr></table>\".format(''.join(html))))"
   ]
  },
  {
   "cell_type": "markdown",
   "metadata": {},
   "source": [
    "### Labels"
   ]
  },
  {
   "cell_type": "code",
   "execution_count": 8,
   "metadata": {
    "collapsed": true
   },
   "outputs": [],
   "source": [
    "import pandas as pd"
   ]
  },
  {
   "cell_type": "code",
   "execution_count": 13,
   "metadata": {},
   "outputs": [],
   "source": [
    "loc_train_solution = pd.read_csv('LOC_train_solution.csv')\n",
    "loc_val_solution = pd.read_csv('LOC_val_solution.csv')\n",
    "loc_synset_mapping_path = 'LOC_synset_mapping.txt'"
   ]
  },
  {
   "cell_type": "code",
   "execution_count": 10,
   "metadata": {},
   "outputs": [
    {
     "data": {
      "text/html": [
       "<div>\n",
       "<style>\n",
       "    .dataframe thead tr:only-child th {\n",
       "        text-align: right;\n",
       "    }\n",
       "\n",
       "    .dataframe thead th {\n",
       "        text-align: left;\n",
       "    }\n",
       "\n",
       "    .dataframe tbody tr th {\n",
       "        vertical-align: top;\n",
       "    }\n",
       "</style>\n",
       "<table border=\"1\" class=\"dataframe\">\n",
       "  <thead>\n",
       "    <tr style=\"text-align: right;\">\n",
       "      <th></th>\n",
       "      <th>ImageId</th>\n",
       "      <th>PredictionString</th>\n",
       "    </tr>\n",
       "  </thead>\n",
       "  <tbody>\n",
       "    <tr>\n",
       "      <th>0</th>\n",
       "      <td>n02017213_7894</td>\n",
       "      <td>n02017213 115 49 448 294</td>\n",
       "    </tr>\n",
       "    <tr>\n",
       "      <th>1</th>\n",
       "      <td>n02017213_7261</td>\n",
       "      <td>n02017213 91 42 330 432</td>\n",
       "    </tr>\n",
       "    <tr>\n",
       "      <th>2</th>\n",
       "      <td>n02017213_5636</td>\n",
       "      <td>n02017213 230 104 414 224</td>\n",
       "    </tr>\n",
       "    <tr>\n",
       "      <th>3</th>\n",
       "      <td>n02017213_6132</td>\n",
       "      <td>n02017213 46 82 464 387</td>\n",
       "    </tr>\n",
       "    <tr>\n",
       "      <th>4</th>\n",
       "      <td>n02017213_7659</td>\n",
       "      <td>n02017213 103 66 331 335</td>\n",
       "    </tr>\n",
       "  </tbody>\n",
       "</table>\n",
       "</div>"
      ],
      "text/plain": [
       "          ImageId            PredictionString\n",
       "0  n02017213_7894   n02017213 115 49 448 294 \n",
       "1  n02017213_7261    n02017213 91 42 330 432 \n",
       "2  n02017213_5636  n02017213 230 104 414 224 \n",
       "3  n02017213_6132    n02017213 46 82 464 387 \n",
       "4  n02017213_7659   n02017213 103 66 331 335 "
      ]
     },
     "execution_count": 10,
     "metadata": {},
     "output_type": "execute_result"
    }
   ],
   "source": [
    "loc_train_solution.head()"
   ]
  },
  {
   "cell_type": "code",
   "execution_count": 11,
   "metadata": {},
   "outputs": [
    {
     "data": {
      "text/html": [
       "<div>\n",
       "<style>\n",
       "    .dataframe thead tr:only-child th {\n",
       "        text-align: right;\n",
       "    }\n",
       "\n",
       "    .dataframe thead th {\n",
       "        text-align: left;\n",
       "    }\n",
       "\n",
       "    .dataframe tbody tr th {\n",
       "        vertical-align: top;\n",
       "    }\n",
       "</style>\n",
       "<table border=\"1\" class=\"dataframe\">\n",
       "  <thead>\n",
       "    <tr style=\"text-align: right;\">\n",
       "      <th></th>\n",
       "      <th>ImageId</th>\n",
       "      <th>PredictionString</th>\n",
       "    </tr>\n",
       "  </thead>\n",
       "  <tbody>\n",
       "    <tr>\n",
       "      <th>0</th>\n",
       "      <td>ILSVRC2012_val_00048981</td>\n",
       "      <td>n03995372 85 1 499 272</td>\n",
       "    </tr>\n",
       "    <tr>\n",
       "      <th>1</th>\n",
       "      <td>ILSVRC2012_val_00037956</td>\n",
       "      <td>n03481172 131 0 499 254</td>\n",
       "    </tr>\n",
       "    <tr>\n",
       "      <th>2</th>\n",
       "      <td>ILSVRC2012_val_00026161</td>\n",
       "      <td>n02108000 38 0 464 280</td>\n",
       "    </tr>\n",
       "    <tr>\n",
       "      <th>3</th>\n",
       "      <td>ILSVRC2012_val_00026171</td>\n",
       "      <td>n03109150 0 14 216 299</td>\n",
       "    </tr>\n",
       "    <tr>\n",
       "      <th>4</th>\n",
       "      <td>ILSVRC2012_val_00008726</td>\n",
       "      <td>n02119789 255 142 454 329 n02119789 44 21 322 ...</td>\n",
       "    </tr>\n",
       "  </tbody>\n",
       "</table>\n",
       "</div>"
      ],
      "text/plain": [
       "                   ImageId                                   PredictionString\n",
       "0  ILSVRC2012_val_00048981                            n03995372 85 1 499 272 \n",
       "1  ILSVRC2012_val_00037956                           n03481172 131 0 499 254 \n",
       "2  ILSVRC2012_val_00026161                            n02108000 38 0 464 280 \n",
       "3  ILSVRC2012_val_00026171                            n03109150 0 14 216 299 \n",
       "4  ILSVRC2012_val_00008726  n02119789 255 142 454 329 n02119789 44 21 322 ..."
      ]
     },
     "execution_count": 11,
     "metadata": {},
     "output_type": "execute_result"
    }
   ],
   "source": [
    "loc_val_solution.head()"
   ]
  },
  {
   "cell_type": "code",
   "execution_count": 81,
   "metadata": {
    "collapsed": true
   },
   "outputs": [],
   "source": [
    "def parse_synset_mapping(path):\n",
    "    \"\"\"Parse the synset mapping file into a dictionary mapping <synset_id>:[<synonyms in English>]\n",
    "    This assumes an input file formatted as:\n",
    "        <synset_id> <category>, <synonym...>\n",
    "    Example:\n",
    "        n01484850 great white shark, white shark, man-eater, man-eating shark, Carcharodon carcharias\n",
    "    \"\"\"\n",
    "    synset_map = {}\n",
    "    with open(path, 'r') as fp:\n",
    "        lines = fp.readlines()\n",
    "        for line in lines:\n",
    "            parts = line.split(' ')\n",
    "            synset_map[parts[0]] = [label.strip() for label in ' '.join(parts[1:]).split(',')]\n",
    "        return synset_map"
   ]
  },
  {
   "cell_type": "code",
   "execution_count": 82,
   "metadata": {},
   "outputs": [],
   "source": [
    "synset_mapping = parse_synset_mapping(loc_synset_mapping_path)"
   ]
  },
  {
   "cell_type": "code",
   "execution_count": 83,
   "metadata": {},
   "outputs": [
    {
     "data": {
      "text/plain": [
       "1000"
      ]
     },
     "execution_count": 83,
     "metadata": {},
     "output_type": "execute_result"
    }
   ],
   "source": [
    "len(synset_mapping)"
   ]
  },
  {
   "cell_type": "code",
   "execution_count": 84,
   "metadata": {},
   "outputs": [
    {
     "name": "stdout",
     "output_type": "stream",
     "text": [
      "n01440764 ['tench', 'Tinca tinca']\n",
      "n01443537 ['goldfish', 'Carassius auratus']\n",
      "n01484850 ['great white shark', 'white shark', 'man-eater', 'man-eating shark', 'Carcharodon carcharias']\n",
      "n01491361 ['tiger shark', 'Galeocerdo cuvieri']\n",
      "n01494475 ['hammerhead', 'hammerhead shark']\n",
      "n01496331 ['electric ray', 'crampfish', 'numbfish', 'torpedo']\n"
     ]
    }
   ],
   "source": [
    "for index, (key, val) in enumerate(synset_mapping.items()):\n",
    "    if (index > 5):\n",
    "        break\n",
    "    print('{} {}'.format(key, val))"
   ]
  },
  {
   "cell_type": "code",
   "execution_count": null,
   "metadata": {
    "collapsed": true
   },
   "outputs": [],
   "source": []
  }
 ],
 "metadata": {
  "kernelspec": {
   "display_name": "Python 3",
   "language": "python",
   "name": "python3"
  },
  "language_info": {
   "codemirror_mode": {
    "name": "ipython",
    "version": 3
   },
   "file_extension": ".py",
   "mimetype": "text/x-python",
   "name": "python",
   "nbconvert_exporter": "python",
   "pygments_lexer": "ipython3",
   "version": "3.6.1"
  }
 },
 "nbformat": 4,
 "nbformat_minor": 1
}
