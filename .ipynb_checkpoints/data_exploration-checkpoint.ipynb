{
 "cells": [
  {
   "cell_type": "markdown",
   "metadata": {
    "collapsed": true
   },
   "source": [
    "# Data Exploration\n",
    "\n",
    "The data provided for this challenge is divided in the following manner:\n",
    "\n",
    " + Training set: 50,000 samples\n",
    " + Validation set: 50,000 samples\n",
    " + Test set: 100,000 samples\n",
    "\n",
    "There are 1,000 possible labels, and each image can have up to 5 objects in it."
   ]
  },
  {
   "cell_type": "markdown",
   "metadata": {},
   "source": [
    "### Sample images"
   ]
  },
  {
   "cell_type": "code",
   "execution_count": 257,
   "metadata": {
    "collapsed": true
   },
   "outputs": [],
   "source": [
    "sample_images_path = 'sample-images/'\n",
    "sample_images = ['n01440764_5647.JPEG', 'n01774750_8125.JPEG', 'n04447861_3133.JPEG', 'n02091134_7845.JPEG']"
   ]
  },
  {
   "cell_type": "code",
   "execution_count": 258,
   "metadata": {},
   "outputs": [
    {
     "data": {
      "text/html": [
       "<table><tr><td><img src='sample-images/n01440764_5647.JPEG' /></td><td><img src='sample-images/n01774750_8125.JPEG' /></td><td><img src='sample-images/n04447861_3133.JPEG' /></td><td><img src='sample-images/n02091134_7845.JPEG' /></td></tr></table>"
      ],
      "text/plain": [
       "<IPython.core.display.HTML object>"
      ]
     },
     "metadata": {},
     "output_type": "display_data"
    }
   ],
   "source": [
    "from IPython.display import display, HTML\n",
    "\n",
    "html = [\"<td><img src='{}' /></td>\".format(sample_images_path + img) for img in sample_images]\n",
    "display(HTML(\"<table><tr>{}</tr></table>\".format(''.join(html))))"
   ]
  },
  {
   "cell_type": "markdown",
   "metadata": {},
   "source": [
    "### Labels\n",
    "\n",
    "The training an validation sets are labeled such that each sample image contains zero (none) or more (up to five) bounding boxes describing where the object is in the image, as well as what that object is. Each sample is labeled in the following format:\n",
    "\n",
    " + ImageId - the ID of the sample image\n",
    " + Width - width of the image (in pixels)\n",
    " + Height - height of the image (in pixels)\n",
    " + PredictionString - a set of zero of more groups of five values, representing:\n",
    "     + synsetId - the synset ID of the object in the image\n",
    "     + x_min - left coordinate of the top left corner (in pixels) of the bounding box where the object in the image\n",
    "     + y_min - top coordinate of the top left corner (in pixels) of the bounding box where the object in the\n",
    "     + x_max - right coordinate of the bottom right corner (in pixels) of the bounding box where the object in the image\n",
    "     + y_max - bottom coordinate of the bottom right corner (in pixels) of the bounding box where the object in the"
   ]
  },
  {
   "cell_type": "code",
   "execution_count": 259,
   "metadata": {
    "collapsed": true
   },
   "outputs": [],
   "source": [
    "import pandas as pd"
   ]
  },
  {
   "cell_type": "code",
   "execution_count": 260,
   "metadata": {
    "collapsed": true
   },
   "outputs": [],
   "source": [
    "loc_train_solution = pd.read_csv('LOC_train_solution_with_size.csv')\n",
    "loc_val_solution = pd.read_csv('LOC_val_solution_with_size.csv')\n",
    "loc_synset_mapping_path = 'LOC_synset_mapping.txt'"
   ]
  },
  {
   "cell_type": "code",
   "execution_count": 261,
   "metadata": {},
   "outputs": [
    {
     "data": {
      "text/html": [
       "<div>\n",
       "<style>\n",
       "    .dataframe thead tr:only-child th {\n",
       "        text-align: right;\n",
       "    }\n",
       "\n",
       "    .dataframe thead th {\n",
       "        text-align: left;\n",
       "    }\n",
       "\n",
       "    .dataframe tbody tr th {\n",
       "        vertical-align: top;\n",
       "    }\n",
       "</style>\n",
       "<table border=\"1\" class=\"dataframe\">\n",
       "  <thead>\n",
       "    <tr style=\"text-align: right;\">\n",
       "      <th></th>\n",
       "      <th>ImageId</th>\n",
       "      <th>Width</th>\n",
       "      <th>Height</th>\n",
       "      <th>PredictionString</th>\n",
       "    </tr>\n",
       "  </thead>\n",
       "  <tbody>\n",
       "    <tr>\n",
       "      <th>0</th>\n",
       "      <td>n02017213_7894</td>\n",
       "      <td>500</td>\n",
       "      <td>334</td>\n",
       "      <td>n02017213 115 49 448 294</td>\n",
       "    </tr>\n",
       "    <tr>\n",
       "      <th>1</th>\n",
       "      <td>n02017213_7261</td>\n",
       "      <td>400</td>\n",
       "      <td>500</td>\n",
       "      <td>n02017213 91 42 330 432</td>\n",
       "    </tr>\n",
       "    <tr>\n",
       "      <th>2</th>\n",
       "      <td>n02017213_5636</td>\n",
       "      <td>500</td>\n",
       "      <td>341</td>\n",
       "      <td>n02017213 230 104 414 224</td>\n",
       "    </tr>\n",
       "    <tr>\n",
       "      <th>3</th>\n",
       "      <td>n02017213_6132</td>\n",
       "      <td>500</td>\n",
       "      <td>438</td>\n",
       "      <td>n02017213 46 82 464 387</td>\n",
       "    </tr>\n",
       "    <tr>\n",
       "      <th>4</th>\n",
       "      <td>n02017213_7659</td>\n",
       "      <td>333</td>\n",
       "      <td>500</td>\n",
       "      <td>n02017213 103 66 331 335</td>\n",
       "    </tr>\n",
       "  </tbody>\n",
       "</table>\n",
       "</div>"
      ],
      "text/plain": [
       "          ImageId  Width  Height           PredictionString\n",
       "0  n02017213_7894    500     334   n02017213 115 49 448 294\n",
       "1  n02017213_7261    400     500    n02017213 91 42 330 432\n",
       "2  n02017213_5636    500     341  n02017213 230 104 414 224\n",
       "3  n02017213_6132    500     438    n02017213 46 82 464 387\n",
       "4  n02017213_7659    333     500   n02017213 103 66 331 335"
      ]
     },
     "execution_count": 261,
     "metadata": {},
     "output_type": "execute_result"
    }
   ],
   "source": [
    "loc_train_solution.head()"
   ]
  },
  {
   "cell_type": "code",
   "execution_count": 262,
   "metadata": {},
   "outputs": [
    {
     "data": {
      "text/html": [
       "<div>\n",
       "<style>\n",
       "    .dataframe thead tr:only-child th {\n",
       "        text-align: right;\n",
       "    }\n",
       "\n",
       "    .dataframe thead th {\n",
       "        text-align: left;\n",
       "    }\n",
       "\n",
       "    .dataframe tbody tr th {\n",
       "        vertical-align: top;\n",
       "    }\n",
       "</style>\n",
       "<table border=\"1\" class=\"dataframe\">\n",
       "  <thead>\n",
       "    <tr style=\"text-align: right;\">\n",
       "      <th></th>\n",
       "      <th>ImageId</th>\n",
       "      <th>Width</th>\n",
       "      <th>Height</th>\n",
       "      <th>PredictionString</th>\n",
       "    </tr>\n",
       "  </thead>\n",
       "  <tbody>\n",
       "    <tr>\n",
       "      <th>0</th>\n",
       "      <td>ILSVRC2012_val_00048981</td>\n",
       "      <td>500</td>\n",
       "      <td>360</td>\n",
       "      <td>n03995372 85 1 499 272</td>\n",
       "    </tr>\n",
       "    <tr>\n",
       "      <th>1</th>\n",
       "      <td>ILSVRC2012_val_00037956</td>\n",
       "      <td>500</td>\n",
       "      <td>333</td>\n",
       "      <td>n03481172 131 0 499 254</td>\n",
       "    </tr>\n",
       "    <tr>\n",
       "      <th>2</th>\n",
       "      <td>ILSVRC2012_val_00026161</td>\n",
       "      <td>500</td>\n",
       "      <td>334</td>\n",
       "      <td>n02108000 38 0 464 280</td>\n",
       "    </tr>\n",
       "    <tr>\n",
       "      <th>3</th>\n",
       "      <td>ILSVRC2012_val_00026171</td>\n",
       "      <td>225</td>\n",
       "      <td>300</td>\n",
       "      <td>n03109150 0 14 216 299</td>\n",
       "    </tr>\n",
       "    <tr>\n",
       "      <th>4</th>\n",
       "      <td>ILSVRC2012_val_00008726</td>\n",
       "      <td>500</td>\n",
       "      <td>357</td>\n",
       "      <td>n02119789 255 142 454 329 n02119789 44 21 322 295</td>\n",
       "    </tr>\n",
       "  </tbody>\n",
       "</table>\n",
       "</div>"
      ],
      "text/plain": [
       "                   ImageId  Width  Height  \\\n",
       "0  ILSVRC2012_val_00048981    500     360   \n",
       "1  ILSVRC2012_val_00037956    500     333   \n",
       "2  ILSVRC2012_val_00026161    500     334   \n",
       "3  ILSVRC2012_val_00026171    225     300   \n",
       "4  ILSVRC2012_val_00008726    500     357   \n",
       "\n",
       "                                    PredictionString  \n",
       "0                             n03995372 85 1 499 272  \n",
       "1                            n03481172 131 0 499 254  \n",
       "2                             n02108000 38 0 464 280  \n",
       "3                             n03109150 0 14 216 299  \n",
       "4  n02119789 255 142 454 329 n02119789 44 21 322 295  "
      ]
     },
     "execution_count": 262,
     "metadata": {},
     "output_type": "execute_result"
    }
   ],
   "source": [
    "loc_val_solution.head()"
   ]
  },
  {
   "cell_type": "markdown",
   "metadata": {},
   "source": [
    "### Bounding boxes as percentages\n",
    "\n",
    "Since we'll be using TensorFlow for this, we'll use [tf.image.draw_bounding_boxes](https://www.tensorflow.org/api_docs/python/tf/image/draw_bounding_boxes) to see the bounding boxes during training and at inference. Since that API requires the values for `[x_min, y_min, x_max, y_max]` to be floats in `[0.0, 1.0]` relative to the width and height of each image, we'll need to convert those values from absolute pixels to percentages."
   ]
  },
  {
   "cell_type": "code",
   "execution_count": 263,
   "metadata": {},
   "outputs": [],
   "source": [
    "def expand_prediction_cell(df, colname):\n",
    "    \"\"\"Expands all the space separated values in a column into separate columns.\n",
    "    The assumption is that the column to be expanded is the right-most one.\n",
    "    Also, since the 5 values being expanded are label, x min, y min, x max, y max,\n",
    "    those groups will also be put under column names that represent that more explicitly.\n",
    "    \"\"\"\n",
    "    df = df[df.columns[:-1]].join(df[colname].str.split(' ', expand=True))\n",
    "    \n",
    "    renamed_cols = list(df.columns[3:])\n",
    "    labels = ['lb', 'xmin', 'ymin', 'xmax', 'ymax']\n",
    "\n",
    "    for i in range(int(len(renamed_cols) / 5)):\n",
    "        renamed_cols[i*5:i*5+5] = [lb + str(i) for lb in labels]\n",
    "    \n",
    "    df.columns=list(df.columns[0:3]) + renamed_cols\n",
    "    return df\n",
    "\n",
    "def px_to_pct(df, cols=10):\n",
    "    \"\"\"Given a dataframe in the format described by expand_prediction_cell,\n",
    "    convert each pixel value in each bounding box group to a percentage relative to the image size.\n",
    "    For example, if the image width is 100px and the x-min value is 25, the new value will be 0.25,\n",
    "    meaning that the x-min starts 25% from the left of the image.\"\"\"\n",
    "    for label in ['xmin', 'ymin', 'xmax', 'ymax']:\n",
    "        for i in range(cols):\n",
    "            lb = label + str(i)\n",
    "            df[lb] = pd.to_numeric(df[lb], errors='coerce')\n",
    "            df[lb] = df[lb] / df['Width']\n",
    "    \n",
    "    return df"
   ]
  },
  {
   "cell_type": "code",
   "execution_count": 264,
   "metadata": {},
   "outputs": [
    {
     "name": "stdout",
     "output_type": "stream",
     "text": [
      "(5124, 33)\n"
     ]
    },
    {
     "data": {
      "text/html": [
       "<div>\n",
       "<style>\n",
       "    .dataframe thead tr:only-child th {\n",
       "        text-align: right;\n",
       "    }\n",
       "\n",
       "    .dataframe thead th {\n",
       "        text-align: left;\n",
       "    }\n",
       "\n",
       "    .dataframe tbody tr th {\n",
       "        vertical-align: top;\n",
       "    }\n",
       "</style>\n",
       "<table border=\"1\" class=\"dataframe\">\n",
       "  <thead>\n",
       "    <tr style=\"text-align: right;\">\n",
       "      <th></th>\n",
       "      <th>ImageId</th>\n",
       "      <th>Width</th>\n",
       "      <th>Height</th>\n",
       "      <th>lb0</th>\n",
       "      <th>xmin0</th>\n",
       "      <th>ymin0</th>\n",
       "      <th>xmax0</th>\n",
       "      <th>ymax0</th>\n",
       "      <th>lb1</th>\n",
       "      <th>xmin1</th>\n",
       "      <th>...</th>\n",
       "      <th>lb4</th>\n",
       "      <th>xmin4</th>\n",
       "      <th>ymin4</th>\n",
       "      <th>xmax4</th>\n",
       "      <th>ymax4</th>\n",
       "      <th>lb5</th>\n",
       "      <th>xmin5</th>\n",
       "      <th>ymin5</th>\n",
       "      <th>xmax5</th>\n",
       "      <th>ymax5</th>\n",
       "    </tr>\n",
       "  </thead>\n",
       "  <tbody>\n",
       "    <tr>\n",
       "      <th>0</th>\n",
       "      <td>n02017213_7894</td>\n",
       "      <td>500</td>\n",
       "      <td>334</td>\n",
       "      <td>n02017213</td>\n",
       "      <td>0.230000</td>\n",
       "      <td>0.098000</td>\n",
       "      <td>0.896000</td>\n",
       "      <td>0.588000</td>\n",
       "      <td>None</td>\n",
       "      <td>NaN</td>\n",
       "      <td>...</td>\n",
       "      <td>None</td>\n",
       "      <td>NaN</td>\n",
       "      <td>NaN</td>\n",
       "      <td>NaN</td>\n",
       "      <td>NaN</td>\n",
       "      <td>None</td>\n",
       "      <td>NaN</td>\n",
       "      <td>NaN</td>\n",
       "      <td>NaN</td>\n",
       "      <td>NaN</td>\n",
       "    </tr>\n",
       "    <tr>\n",
       "      <th>1</th>\n",
       "      <td>n02017213_7261</td>\n",
       "      <td>400</td>\n",
       "      <td>500</td>\n",
       "      <td>n02017213</td>\n",
       "      <td>0.227500</td>\n",
       "      <td>0.105000</td>\n",
       "      <td>0.825000</td>\n",
       "      <td>1.080000</td>\n",
       "      <td>None</td>\n",
       "      <td>NaN</td>\n",
       "      <td>...</td>\n",
       "      <td>None</td>\n",
       "      <td>NaN</td>\n",
       "      <td>NaN</td>\n",
       "      <td>NaN</td>\n",
       "      <td>NaN</td>\n",
       "      <td>None</td>\n",
       "      <td>NaN</td>\n",
       "      <td>NaN</td>\n",
       "      <td>NaN</td>\n",
       "      <td>NaN</td>\n",
       "    </tr>\n",
       "    <tr>\n",
       "      <th>2</th>\n",
       "      <td>n02017213_5636</td>\n",
       "      <td>500</td>\n",
       "      <td>341</td>\n",
       "      <td>n02017213</td>\n",
       "      <td>0.460000</td>\n",
       "      <td>0.208000</td>\n",
       "      <td>0.828000</td>\n",
       "      <td>0.448000</td>\n",
       "      <td>None</td>\n",
       "      <td>NaN</td>\n",
       "      <td>...</td>\n",
       "      <td>None</td>\n",
       "      <td>NaN</td>\n",
       "      <td>NaN</td>\n",
       "      <td>NaN</td>\n",
       "      <td>NaN</td>\n",
       "      <td>None</td>\n",
       "      <td>NaN</td>\n",
       "      <td>NaN</td>\n",
       "      <td>NaN</td>\n",
       "      <td>NaN</td>\n",
       "    </tr>\n",
       "    <tr>\n",
       "      <th>3</th>\n",
       "      <td>n02017213_6132</td>\n",
       "      <td>500</td>\n",
       "      <td>438</td>\n",
       "      <td>n02017213</td>\n",
       "      <td>0.092000</td>\n",
       "      <td>0.164000</td>\n",
       "      <td>0.928000</td>\n",
       "      <td>0.774000</td>\n",
       "      <td>None</td>\n",
       "      <td>NaN</td>\n",
       "      <td>...</td>\n",
       "      <td>None</td>\n",
       "      <td>NaN</td>\n",
       "      <td>NaN</td>\n",
       "      <td>NaN</td>\n",
       "      <td>NaN</td>\n",
       "      <td>None</td>\n",
       "      <td>NaN</td>\n",
       "      <td>NaN</td>\n",
       "      <td>NaN</td>\n",
       "      <td>NaN</td>\n",
       "    </tr>\n",
       "    <tr>\n",
       "      <th>4</th>\n",
       "      <td>n02017213_7659</td>\n",
       "      <td>333</td>\n",
       "      <td>500</td>\n",
       "      <td>n02017213</td>\n",
       "      <td>0.309309</td>\n",
       "      <td>0.198198</td>\n",
       "      <td>0.993994</td>\n",
       "      <td>1.006006</td>\n",
       "      <td>None</td>\n",
       "      <td>NaN</td>\n",
       "      <td>...</td>\n",
       "      <td>None</td>\n",
       "      <td>NaN</td>\n",
       "      <td>NaN</td>\n",
       "      <td>NaN</td>\n",
       "      <td>NaN</td>\n",
       "      <td>None</td>\n",
       "      <td>NaN</td>\n",
       "      <td>NaN</td>\n",
       "      <td>NaN</td>\n",
       "      <td>NaN</td>\n",
       "    </tr>\n",
       "  </tbody>\n",
       "</table>\n",
       "<p>5 rows × 33 columns</p>\n",
       "</div>"
      ],
      "text/plain": [
       "          ImageId  Width  Height        lb0     xmin0     ymin0     xmax0  \\\n",
       "0  n02017213_7894    500     334  n02017213  0.230000  0.098000  0.896000   \n",
       "1  n02017213_7261    400     500  n02017213  0.227500  0.105000  0.825000   \n",
       "2  n02017213_5636    500     341  n02017213  0.460000  0.208000  0.828000   \n",
       "3  n02017213_6132    500     438  n02017213  0.092000  0.164000  0.928000   \n",
       "4  n02017213_7659    333     500  n02017213  0.309309  0.198198  0.993994   \n",
       "\n",
       "      ymax0   lb1  xmin1  ...     lb4  xmin4  ymin4 xmax4  ymax4   lb5  xmin5  \\\n",
       "0  0.588000  None    NaN  ...    None    NaN    NaN   NaN    NaN  None    NaN   \n",
       "1  1.080000  None    NaN  ...    None    NaN    NaN   NaN    NaN  None    NaN   \n",
       "2  0.448000  None    NaN  ...    None    NaN    NaN   NaN    NaN  None    NaN   \n",
       "3  0.774000  None    NaN  ...    None    NaN    NaN   NaN    NaN  None    NaN   \n",
       "4  1.006006  None    NaN  ...    None    NaN    NaN   NaN    NaN  None    NaN   \n",
       "\n",
       "   ymin5 xmax5  ymax5  \n",
       "0    NaN   NaN    NaN  \n",
       "1    NaN   NaN    NaN  \n",
       "2    NaN   NaN    NaN  \n",
       "3    NaN   NaN    NaN  \n",
       "4    NaN   NaN    NaN  \n",
       "\n",
       "[5 rows x 33 columns]"
      ]
     },
     "execution_count": 264,
     "metadata": {},
     "output_type": "execute_result"
    }
   ],
   "source": [
    "loc_train_solution_xp = expand_prediction_cell(loc_train_solution, 'PredictionString')\n",
    "loc_train_solution_xp = px_to_pct(loc_train_solution_xp, int((len(loc_train_solution_xp.columns) - 3) / 5))\n",
    "\n",
    "print(loc_train_solution_xp.shape)\n",
    "loc_train_solution_xp.head()"
   ]
  },
  {
   "cell_type": "markdown",
   "metadata": {},
   "source": [
    "### Synset mapping\n",
    "\n",
    "The labels above are synset IDs, which we'll want to map to the their corresponding English values. Using the function `parse_synset_mapping()`, we'll have a dict that maps the synset ID to a list of values for that synset. Also, since we'll need to convert each synset ID to an integer, we'll need to generate another map to help with that."
   ]
  },
  {
   "cell_type": "code",
   "execution_count": 265,
   "metadata": {
    "collapsed": true
   },
   "outputs": [],
   "source": [
    "def parse_synset_mapping(path):\n",
    "    \"\"\"Parse the synset mapping file into a dictionary mapping <synset_id>:[<synonyms in English>]\n",
    "    This assumes an input file formatted as:\n",
    "        <synset_id> <category>, <synonym...>\n",
    "    Example:\n",
    "        n01484850 great white shark, white shark, man-eater, man-eating shark, Carcharodon carcharias\n",
    "    \"\"\"\n",
    "    synset_map = {}\n",
    "    with open(path, 'r') as fp:\n",
    "        lines = fp.readlines()\n",
    "        for line in lines:\n",
    "            parts = line.split(' ')\n",
    "            synset_map[parts[0]] = [label.strip() for label in ' '.join(parts[1:]).split(',')]\n",
    "        return synset_map\n",
    "    \n",
    "def generate_synset_to_int_mapping(synset_mapping):\n",
    "    synset_to_int_map = {}\n",
    "    for index, (key, val) in enumerate(synset_mapping.items()):\n",
    "        synset_to_int_map[key] = index\n",
    "    return synset_to_int_map\n",
    "    \n",
    "def generate_int_to_synset_mapping(synset_mapping):\n",
    "    int_to_synset_map = {}\n",
    "    for index, (key, val) in enumerate(synset_mapping.items()):\n",
    "        int_to_synset_map[index] = key\n",
    "    return int_to_synset_map"
   ]
  },
  {
   "cell_type": "code",
   "execution_count": 266,
   "metadata": {
    "collapsed": true
   },
   "outputs": [],
   "source": [
    "synset_mapping = parse_synset_mapping(loc_synset_mapping_path)\n",
    "synset_to_int = generate_synset_to_int_mapping(synset_mapping)\n",
    "int_to_synset = generate_int_to_synset_mapping(synset_mapping)"
   ]
  },
  {
   "cell_type": "code",
   "execution_count": 267,
   "metadata": {},
   "outputs": [
    {
     "data": {
      "text/plain": [
       "1000"
      ]
     },
     "execution_count": 267,
     "metadata": {},
     "output_type": "execute_result"
    }
   ],
   "source": [
    "len(synset_mapping)"
   ]
  },
  {
   "cell_type": "code",
   "execution_count": 268,
   "metadata": {},
   "outputs": [
    {
     "name": "stdout",
     "output_type": "stream",
     "text": [
      "n01440764 ['tench', 'Tinca tinca']\n",
      "n01443537 ['goldfish', 'Carassius auratus']\n",
      "n01484850 ['great white shark', 'white shark', 'man-eater', 'man-eating shark', 'Carcharodon carcharias']\n",
      "n01491361 ['tiger shark', 'Galeocerdo cuvieri']\n",
      "n01494475 ['hammerhead', 'hammerhead shark']\n",
      "n01496331 ['electric ray', 'crampfish', 'numbfish', 'torpedo']\n"
     ]
    }
   ],
   "source": [
    "for index, (key, val) in enumerate(synset_mapping.items()):\n",
    "    if (index > 5):\n",
    "        break\n",
    "    print('{} {}'.format(key, val))"
   ]
  },
  {
   "cell_type": "code",
   "execution_count": 269,
   "metadata": {},
   "outputs": [
    {
     "name": "stdout",
     "output_type": "stream",
     "text": [
      "n01440764 0\n",
      "n01443537 1\n",
      "n01484850 2\n",
      "n01491361 3\n",
      "n01494475 4\n",
      "n01496331 5\n"
     ]
    }
   ],
   "source": [
    "for index, (key, val) in enumerate(synset_to_int.items()):\n",
    "    if (index > 5):\n",
    "        break\n",
    "    print('{} {}'.format(key, val))"
   ]
  },
  {
   "cell_type": "code",
   "execution_count": 270,
   "metadata": {},
   "outputs": [
    {
     "name": "stdout",
     "output_type": "stream",
     "text": [
      "0 n01440764\n",
      "1 n01443537\n",
      "2 n01484850\n",
      "3 n01491361\n",
      "4 n01494475\n",
      "5 n01496331\n"
     ]
    }
   ],
   "source": [
    "for index, (key, val) in enumerate(int_to_synset.items()):\n",
    "    if (index > 5):\n",
    "        break\n",
    "    print('{} {}'.format(key, val))"
   ]
  },
  {
   "cell_type": "markdown",
   "metadata": {
    "collapsed": true
   },
   "source": [
    "### Putting it all together\n",
    "\n",
    "Now we're ready to draw some bounding boxes to ensure that the above transformations were done correctly."
   ]
  },
  {
   "cell_type": "code",
   "execution_count": 298,
   "metadata": {},
   "outputs": [
    {
     "name": "stdout",
     "output_type": "stream",
     "text": [
      "tench\n",
      "500x375 => [(0.212, 0.284), (0.642, 0.46)]\n",
      "---\n",
      "tarantula\n",
      "500x336 => [(0.204, 0.108), (0.728, 0.624)]\n",
      "---\n",
      "toilet seat\n",
      "500x375 => [(0.442, 0.266), (0.624, 0.588)]\n",
      "---\n",
      "whippet\n",
      "435x500 => [(0.1425287356321839, 0.34022988505747126), (0.8298850574712644, 1.1402298850574712)]\n",
      "---\n"
     ]
    }
   ],
   "source": [
    "import tensorflow as tf\n",
    "\n",
    "for img in sample_images:\n",
    "    filename = img.split('.')[0]\n",
    "    \n",
    "    row = loc_train_solution_xp.loc[loc_train_solution_xp['ImageId'] == filename]\n",
    "    synset = row.ImageId.values[0].split('_')[0]\n",
    "    print(synset_mapping[synset][0])\n",
    "    print('{}x{} => [({}, {}), ({}, {})]'.format(\n",
    "        row.Width.values[0], row.Height.values[0],\n",
    "        row.xmin0.values[0], row.ymin0.values[0],\n",
    "        row.xmax0.values[0], row.ymax0.values[0],\n",
    "    ))\n",
    "    print('---')"
   ]
  },
  {
   "cell_type": "code",
   "execution_count": null,
   "metadata": {
    "collapsed": true
   },
   "outputs": [],
   "source": []
  }
 ],
 "metadata": {
  "kernelspec": {
   "display_name": "Python 3",
   "language": "python",
   "name": "python3"
  },
  "language_info": {
   "codemirror_mode": {
    "name": "ipython",
    "version": 3
   },
   "file_extension": ".py",
   "mimetype": "text/x-python",
   "name": "python",
   "nbconvert_exporter": "python",
   "pygments_lexer": "ipython3",
   "version": "3.6.1"
  }
 },
 "nbformat": 4,
 "nbformat_minor": 1
}
